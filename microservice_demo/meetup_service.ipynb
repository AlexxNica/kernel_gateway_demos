{
 "cells": [
  {
   "cell_type": "code",
   "execution_count": null,
   "metadata": {
    "collapsed": false
   },
   "outputs": [],
   "source": [
    "import requests, os, json\n",
    "ALCHEMY_KEY = os.getenv('ALCHEMY_KEY')\n",
    "MAKER_KEY = os.getenv('MAKER_KEY')\n",
    "MAKER_EVENT_NAME = os.getenv('MAKER_EVENT_NAME')\n",
    "TOPIC = os.getenv('TOPIC', 'bluemix')\n",
    "\n",
    "MAKER_EVENT_URL = 'https://maker.ifttt.com/trigger/{event}/with/key/{key}'\n",
    "MEETUP_URL = 'http://www.meetup.com/find/events/?allMeetups=false&keywords={topic}&radius=50&userFreeform={city}&change=yes&eventFilter=mysugg'"
   ]
  },
  {
   "cell_type": "code",
   "execution_count": null,
   "metadata": {
    "collapsed": true
   },
   "outputs": [],
   "source": [
    "def send_maker_request(username, location, meetup_url):\n",
    "    post_url = MAKER_EVENT_URL.format(event=MAKER_EVENT_NAME, key=MAKER_KEY)\n",
    "    values = dict(value1=username, value2=location, value3=meetup_url)\n",
    "    r = requests.post(post_url, data=json.dumps(values), headers={'Content-Type': 'application/json'}, timeout=90)\n",
    "    r.raise_for_status()\n",
    "    \n",
    "def send_alchemy_request(tweet):\n",
    "    resp = requests.get('http://gateway-a.watsonplatform.net/calls/text/TextGetRankedNamedEntities', params=dict(\n",
    "            apikey=ALCHEMY_KEY,\n",
    "            text=tweet,\n",
    "            outputMode='json',\n",
    "            timeout=10\n",
    "    ))\n",
    "    resp.raise_for_status()\n",
    "    return resp"
   ]
  },
  {
   "cell_type": "code",
   "execution_count": null,
   "metadata": {
    "collapsed": true
   },
   "outputs": [],
   "source": [
    "# GET /_echo\n",
    "print(REQUEST)"
   ]
  },
  {
   "cell_type": "code",
   "execution_count": null,
   "metadata": {
    "collapsed": true
   },
   "outputs": [],
   "source": [
    "# GET /_city\n",
    "# Just run the 'text' parameter through the Alchemy entity extraction\n",
    "resp = send_alchemy_request(json.loads(REQUEST)['args']['text'])\n",
    "print(resp.text)"
   ]
  },
  {
   "cell_type": "code",
   "execution_count": null,
   "metadata": {
    "collapsed": false
   },
   "outputs": [],
   "source": [
    "# GET /generate_search_url\n",
    "# Find the city's name by running the 'text' parameter through the Alchemy entity extraction\n",
    "req = json.loads(REQUEST)\n",
    "resp = send_alchemy_request(req['args']['text'])\n",
    "named_entities = resp.json()['entities']\n",
    "cities = [\n",
    "    entity['text'] for entity in named_entities\n",
    "        if entity['type'] == 'City'\n",
    "]\n",
    "users = req['args']['user']\n",
    "# If a city was found, trigger the Maker event with the querying username and search URL\n",
    "if len(cities) > 0 and len(users) > 0:\n",
    "    username = users[0]\n",
    "    mentioned_city = cities[0]\n",
    "    url = MEETUP_URL.format(city=mentioned_city, topic=TOPIC)\n",
    "    send_maker_request('@'+username, mentioned_city, url)\n"
   ]
  }
 ],
 "metadata": {
  "kernelspec": {
   "display_name": "Python 3",
   "language": "python",
   "name": "python3"
  },
  "language_info": {
   "codemirror_mode": {
    "name": "ipython",
    "version": 3
   },
   "file_extension": ".py",
   "mimetype": "text/x-python",
   "name": "python",
   "nbconvert_exporter": "python",
   "pygments_lexer": "ipython3",
   "version": "3.4.3"
  }
 },
 "nbformat": 4,
 "nbformat_minor": 0
}
