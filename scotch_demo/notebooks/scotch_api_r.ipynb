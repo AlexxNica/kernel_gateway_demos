{
 "cells": [
  {
   "cell_type": "markdown",
   "metadata": {},
   "source": [
    "This notebook is meant to demonstrate the transformation of an annotated notebook into a HTTP API using the Jupyter kernel gateway. The result is a simple scotch recommendation engine.\n",
    "\n",
    "The original scotch data is from [https://www.mathstat.strath.ac.uk/outreach/nessie/nessie_whisky.html](https://www.mathstat.strath.ac.uk/outreach/nessie/nessie_whisky.html)."
   ]
  },
  {
   "cell_type": "code",
   "execution_count": null,
   "metadata": {
    "collapsed": false
   },
   "outputs": [],
   "source": [
    "library(RCurl)\n",
    "library(jsonlite)"
   ]
  },
  {
   "cell_type": "markdown",
   "metadata": {},
   "source": [
    "## Data\n",
    "\n",
    "We read the scotch data from a public Dropbox URL to make this notebook more portable. This is acceptable for small, public, demo data which is what we have here."
   ]
  },
  {
   "cell_type": "code",
   "execution_count": null,
   "metadata": {
    "collapsed": false
   },
   "outputs": [],
   "source": [
    "whisky_json <- getURL(\"https://dl.dropboxusercontent.com/u/19043899/whisky_features_df.json\", ssl.verifypeer = FALSE, useragent= 'R')\n",
    "whisky_similarity_json <- getURL(\"https://dl.dropboxusercontent.com/u/19043899/whisky_similarity_features_df.json\", ssl.verifypeer = FALSE, useragent= 'R')"
   ]
  },
  {
   "cell_type": "code",
   "execution_count": null,
   "metadata": {
    "collapsed": false
   },
   "outputs": [],
   "source": [
    "whisky_df <- fromJSON(whisky_json)\n",
    "whisky_similarity_df <- fromJSON(whisky_similarity_json)\n",
    "whisky_similarity_df"
   ]
  },
  {
   "cell_type": "markdown",
   "metadata": {},
   "source": [
    "Drop the cluster column. Don't need it here."
   ]
  },
  {
   "cell_type": "code",
   "execution_count": null,
   "metadata": {
    "collapsed": false
   },
   "outputs": [],
   "source": [
    "whisky_df <- subset(whisky_df, select=-c(cluster))"
   ]
  },
  {
   "cell_type": "markdown",
   "metadata": {},
   "source": [
    "## API\n",
    "\n",
    "We need to define a global REQUEST JSON string that will be replaced on each invocation of the API. We only care about path parameters and query string arguments, so we default those to blank here for development."
   ]
  },
  {
   "cell_type": "code",
   "execution_count": null,
   "metadata": {
    "collapsed": true
   },
   "outputs": [],
   "source": [
    "REQUEST <- \"\""
   ]
  },
  {
   "cell_type": "markdown",
   "metadata": {},
   "source": [
    "Provide a way to get the names of all the scotches known by the model."
   ]
  },
  {
   "cell_type": "code",
   "execution_count": null,
   "metadata": {
    "collapsed": false
   },
   "outputs": [],
   "source": [
    "# GET /scotches\n",
    "scotches <- subset(whisky_df, select=c(Distillery))\n",
    "print(toJSON(scotches))"
   ]
  },
  {
   "cell_type": "markdown",
   "metadata": {},
   "source": [
    "Let clients query for features about a specific scotch given its name."
   ]
  },
  {
   "cell_type": "code",
   "execution_count": null,
   "metadata": {
    "collapsed": false
   },
   "outputs": [],
   "source": [
    "# GET /scotches/:scotch\n",
    "scotch_requested <- fromJSON(REQUEST)$path$scotch\n",
    "if(is.null(scotch_requested)) {\n",
    "    scotch_requested <- \"Talisker\"\n",
    "}\n",
    "scotch_features <- whisky_df[whisky_df$Distillery==scotch_requested,]\n",
    "print(toJSON(scotch_features))"
   ]
  },
  {
   "cell_type": "markdown",
   "metadata": {},
   "source": [
    "Let clients request a set of scotches similar to the one named. Let clients specify how many results they wish to receive (count) and if they want all of the raw feature data included in the result or not (include_features)."
   ]
  },
  {
   "cell_type": "code",
   "execution_count": null,
   "metadata": {
    "collapsed": false
   },
   "outputs": [],
   "source": [
    "# GET /scotches/:scotch/similar\n",
    "scotch_requested <- fromJSON(REQUEST)$path$scotch\n",
    "if(is.null(scotch_requested)) {\n",
    "    scotch_requested <- \"Talisker\"\n",
    "}\n",
    "similarity_count <- fromJSON(REQUEST)$args$count\n",
    "if(is.null(similarity_count)) {\n",
    "    similarity_count <- 5\n",
    "}\n",
    "features_requested <- fromJSON(REQUEST)$args$include_features\n",
    "if(is.null(features_requested)) {\n",
    "    features_requested <- \"\"\n",
    "}\n",
    "\n",
    "#subset df columns to Distillery and the scotch requested\n",
    "top_similar <- subset(whisky_similarity_df, select=c('Distillery',scotch_requested))\n",
    "#order df by scotch requested\n",
    "top_similar <- top_similar[order(-top_similar[scotch_requested]),]\n",
    "#take the top similarity count rows of the df\n",
    "top_similar <- top_similar[2:(similarity_count+1),]\n",
    "\n",
    "if (features_requested == \"True\") {\n",
    "    top_similar_with_features <- merge(x = top_similar, y = whisky_df, by = \"Distillery\", all.x = TRUE)\n",
    "    #print(top_similar_with_features)\n",
    "    print(toJSON(top_similar_with_features))\n",
    "} else {\n",
    "    #print(top_similar)\n",
    "    print(toJSON(top_similar))\n",
    "}"
   ]
  }
 ],
 "metadata": {
  "kernelspec": {
   "display_name": "R",
   "language": "R",
   "name": "ir"
  },
  "language_info": {
   "codemirror_mode": "r",
   "file_extension": ".r",
   "mimetype": "text/x-r-source",
   "name": "R",
   "pygments_lexer": "r",
   "version": "3.2.2"
  }
 },
 "nbformat": 4,
 "nbformat_minor": 0
}
