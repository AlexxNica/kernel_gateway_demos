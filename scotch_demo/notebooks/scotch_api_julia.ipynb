{
 "cells": [
  {
   "cell_type": "markdown",
   "metadata": {},
   "source": [
    "This notebook is meant to demonstrate the transformation of an annotated notebook into a HTTP API using the Jupyter kernel gateway. The result is a simple scotch recommendation engine.\n",
    "\n",
    "The original scotch data is from [https://www.mathstat.strath.ac.uk/outreach/nessie/nessie_whisky.html](https://www.mathstat.strath.ac.uk/outreach/nessie/nessie_whisky.html)."
   ]
  },
  {
   "cell_type": "code",
   "execution_count": null,
   "metadata": {
    "collapsed": false
   },
   "outputs": [],
   "source": [
    "import JSON\n",
    "using Requests\n",
    "import Requests: get"
   ]
  },
  {
   "cell_type": "markdown",
   "metadata": {},
   "source": [
    "## Data\n",
    "\n",
    "We read the scotch data from a public Dropbox URL to make this notebook more portable. This is acceptable for small, public, demo data which is what we have here."
   ]
  },
  {
   "cell_type": "code",
   "execution_count": null,
   "metadata": {
    "collapsed": false
   },
   "outputs": [],
   "source": [
    "scotch_json_response = get(\"https://dl.dropboxusercontent.com/u/19043899/whisky_features_df.json\")\n",
    "scotch_json = JSON.parse(IOBuffer(scotch_json_response.data))\n",
    "scotch_similarity_json_reponse = get(\"https://dl.dropboxusercontent.com/u/19043899/whisky_similarity_features_df.json\")\n",
    "scotch_similarity_json = JSON.parse(IOBuffer(scotch_similarity_json_reponse.data))"
   ]
  },
  {
   "cell_type": "code",
   "execution_count": null,
   "metadata": {
    "collapsed": false
   },
   "outputs": [],
   "source": [
    "scotch_matrix = Any[]\n",
    "for i in scotch_json\n",
    "    temp = Any[]\n",
    "    for j in values(i)\n",
    "        push!(temp, j)\n",
    "    end\n",
    "    push!(scotch_matrix, temp)\n",
    "end\n",
    "scotch_matrix = reshape(scotch_matrix, 86,1)"
   ]
  },
  {
   "cell_type": "markdown",
   "metadata": {},
   "source": [
    "## API\n",
    "\n",
    "We need to define a global REQUEST JSON string that will be replaced on each invocation of the API. We only care about path parameters and query string arguments, so we default those to blank here for development."
   ]
  },
  {
   "cell_type": "code",
   "execution_count": null,
   "metadata": {
    "collapsed": false
   },
   "outputs": [],
   "source": [
    "REQUEST = \"\""
   ]
  },
  {
   "cell_type": "markdown",
   "metadata": {},
   "source": [
    "Provide a way to get the names of all the scotches known by the model."
   ]
  },
  {
   "cell_type": "code",
   "execution_count": null,
   "metadata": {
    "collapsed": false
   },
   "outputs": [],
   "source": [
    "# GET /scotches\n",
    "scotches = String[]\n",
    "for i in scotch_matrix\n",
    "    push!(scotches, i[1])\n",
    "end\n",
    "println(JSON.json(scotches))"
   ]
  },
  {
   "cell_type": "markdown",
   "metadata": {},
   "source": [
    "##### get_scotch_feautre_tuple:\n",
    "Input = scotch_requested: String<br>\n",
    "Output = Tuple of (scotch_requested feature names array, scotch_requested feature values array)"
   ]
  },
  {
   "cell_type": "code",
   "execution_count": null,
   "metadata": {
    "collapsed": false
   },
   "outputs": [],
   "source": [
    "function get_scotch_feature_tuple(scotch_requested)\n",
    "    #filter scotch matrix to the row where scotch_requested equals the first value/Distillery\n",
    "    scotch_request_values = filter(row -> row[1] == scotch_requested, scotch_matrix)[1]\n",
    "    scotch_request_keys = Any[]\n",
    "    #create array of scotch feature names as the keys\n",
    "    for i in scotch_json[1]\n",
    "        push!(scotch_request_keys, i[1])\n",
    "    end\n",
    "    return (scotch_request_keys, scotch_request_values)\n",
    "end"
   ]
  },
  {
   "cell_type": "markdown",
   "metadata": {},
   "source": [
    "Let clients query for features about a specific scotch given its name."
   ]
  },
  {
   "cell_type": "code",
   "execution_count": null,
   "metadata": {
    "collapsed": false
   },
   "outputs": [],
   "source": [
    "# GET /scotches/:scotch\n",
    "#REQUEST = \"{\\\"args\\\": {}, \\\"body\\\": \\\"\\\", \\\"path\\\": {\\\"scotch\\\": \\\"AnCnoc\\\"}}\"\n",
    "request_json = JSON.parse(REQUEST)\n",
    "scotch_requested = \"Talisker\"\n",
    "if haskey(request_json, \"path\") && haskey(request_json[\"path\"], \"scotch\")\n",
    "    scotch_requested = request_json[\"path\"][\"scotch\"]\n",
    "end\n",
    "scotch_requested_tuple = get_scotch_feature_tuple(scotch_requested)\n",
    "scotch_requested_features = Dict(zip(scotch_requested_tuple[1], scotch_requested_tuple[2]))\n",
    "println(JSON.json(scotch_requested_features))"
   ]
  },
  {
   "cell_type": "markdown",
   "metadata": {},
   "source": [
    "Let clients request a set of scotches similar to the one named. Let clients specify how many results they wish to receive (count) and if they want all of the raw feature data included in the result or not (include_features)."
   ]
  },
  {
   "cell_type": "code",
   "execution_count": null,
   "metadata": {
    "collapsed": false
   },
   "outputs": [],
   "source": [
    "# GET /scotches/:scotch/similar\n",
    "#REQUEST = \"{\\\"args\\\": {\\\"count\\\": 4, \\\"include_features\\\": \\\"True\\\"}, \\\"body\\\": \\\"\\\", \\\"path\\\": {\\\"scotch\\\": \\\"AnCnoc\\\"}}\"\n",
    "request_json = JSON.parse(REQUEST)\n",
    "scotch_requested = \"Talisker\"\n",
    "num_results = 5\n",
    "features_included = false\n",
    "\n",
    "if haskey(request_json, \"path\") && haskey(request_json[\"path\"], \"scotch\")\n",
    "    scotch_requested = request_json[\"path\"][\"scotch\"]\n",
    "end\n",
    "if haskey(request_json, \"args\")\n",
    "    if haskey(request_json[\"args\"], \"count\")\n",
    "        num_results = request_json[\"args\"][\"count\"]\n",
    "    end\n",
    "    if haskey(request_json[\"args\"], \"include_features\")\n",
    "        features_included = \"True\" == request_json[\"args\"][\"include_features\"]\n",
    "    end\n",
    "end     \n",
    "\n",
    "scotch_request_row = filter(row -> row[\"Distillery\"] == scotch_requested, scotch_similarity_json)[1]\n",
    "scotch_request_types = String[]\n",
    "scotch_request_similarities = Float64[]\n",
    "for (key, value) in scotch_request_row\n",
    "    if key == \"Distillery\"\n",
    "        continue\n",
    "    end\n",
    "    push!(scotch_request_types, key)\n",
    "    push!(scotch_request_similarities, value)\n",
    "end\n",
    "\n",
    "#sort array of tuples by scotch similarity values\n",
    "top_similiar_scotches = sort(collect(zip(scotch_request_similarities, scotch_request_types)), rev=true)\n",
    "#subset to the top requested results\n",
    "top_similiar_scotches = top_similiar_scotches[2:2+num_results-1]\n",
    "#swap the ordering of the tuples in the array of tuples\n",
    "top_similiar_scotches = map( x -> (x[2],x[1]), top_similiar_scotches)\n",
    "\n",
    "if features_included\n",
    "    #for each of the top similiar scotches\n",
    "    for (distillery, similarity)  in top_similiar_scotches\n",
    "        #get features of this particular scotch a tuple of arrays\n",
    "        #where tuple[1] is feature name array, tuple[2] is feature value array\n",
    "        scotch_feature_tuple = get_scotch_feature_tuple(distillery)\n",
    "        push!(scotch_feature_tuple[1], \"Similarity\")\n",
    "        push!(scotch_feature_tuple[2], float(similarity))\n",
    "        #zip the feature arrays and convert to a Dict, so as to be converted to JSON easily\n",
    "        similiar_scotches_with_features = Dict(zip(scotch_feature_tuple[1], scotch_feature_tuple[2]))\n",
    "        println(JSON.json(similiar_scotches_with_features))\n",
    "    end\n",
    "else\n",
    "    #convert array of tuples to an array of dicts where each value has a map of feature name and feature value\n",
    "    println(JSON.json(map(x -> [\"Distillery\" => x[1], \"Similarity\" => x[2]], top_similiar_scotches)))\n",
    "end"
   ]
  }
 ],
 "metadata": {
  "kernelspec": {
   "display_name": "Julia 0.3.2",
   "language": "julia",
   "name": "julia-0.3"
  },
  "language_info": {
   "file_extension": ".jl",
   "mimetype": "application/julia",
   "name": "julia",
   "version": "0.3.2"
  }
 },
 "nbformat": 4,
 "nbformat_minor": 0
}
